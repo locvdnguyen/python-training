{
 "cells": [
  {
   "cell_type": "code",
   "execution_count": 185,
   "id": "31a909ea-ef4d-40e9-b27b-22765c3f41cd",
   "metadata": {},
   "outputs": [],
   "source": [
    "import numpy as np\n",
    "import pandas as pd\n",
    "from datetime import datetime"
   ]
  },
  {
   "cell_type": "markdown",
   "id": "e1194b91-9e78-4d92-846d-6928f90b0270",
   "metadata": {},
   "source": [
    "# Import data from addresses.csv file"
   ]
  },
  {
   "cell_type": "code",
   "execution_count": 186,
   "id": "57b821d1-3787-42bf-9b6b-5040aa2a8d52",
   "metadata": {},
   "outputs": [
    {
     "data": {
      "text/html": [
       "<div>\n",
       "<style scoped>\n",
       "    .dataframe tbody tr th:only-of-type {\n",
       "        vertical-align: middle;\n",
       "    }\n",
       "\n",
       "    .dataframe tbody tr th {\n",
       "        vertical-align: top;\n",
       "    }\n",
       "\n",
       "    .dataframe thead th {\n",
       "        text-align: right;\n",
       "    }\n",
       "</style>\n",
       "<table border=\"1\" class=\"dataframe\">\n",
       "  <thead>\n",
       "    <tr style=\"text-align: right;\">\n",
       "      <th></th>\n",
       "      <th>firstname</th>\n",
       "      <th>lastname</th>\n",
       "      <th>middlename</th>\n",
       "      <th>birthdate</th>\n",
       "      <th>street</th>\n",
       "      <th>city</th>\n",
       "      <th>state</th>\n",
       "      <th>postcode</th>\n",
       "    </tr>\n",
       "  </thead>\n",
       "  <tbody>\n",
       "    <tr>\n",
       "      <th>0</th>\n",
       "      <td>John</td>\n",
       "      <td>Doe</td>\n",
       "      <td>Stephen</td>\n",
       "      <td>2/17/1999</td>\n",
       "      <td>120 jefferson st.</td>\n",
       "      <td>Riverside</td>\n",
       "      <td>NJ</td>\n",
       "      <td>8075</td>\n",
       "    </tr>\n",
       "    <tr>\n",
       "      <th>1</th>\n",
       "      <td>Jack</td>\n",
       "      <td>McGinnis</td>\n",
       "      <td>Jordan</td>\n",
       "      <td>3/18/2000</td>\n",
       "      <td>220 hobo Av.</td>\n",
       "      <td>Phila</td>\n",
       "      <td>PA</td>\n",
       "      <td>9119</td>\n",
       "    </tr>\n",
       "    <tr>\n",
       "      <th>2</th>\n",
       "      <td>John \"Da Man\"</td>\n",
       "      <td>Repici</td>\n",
       "      <td>Peter</td>\n",
       "      <td>04/19/2001</td>\n",
       "      <td>120 Jefferson St.</td>\n",
       "      <td>Riverside</td>\n",
       "      <td>NJ</td>\n",
       "      <td>8075</td>\n",
       "    </tr>\n",
       "    <tr>\n",
       "      <th>3</th>\n",
       "      <td>Stephen</td>\n",
       "      <td>Tyler</td>\n",
       "      <td>Parker</td>\n",
       "      <td>5/20/1999</td>\n",
       "      <td>7452 Terrace \"At the Plaza\" road</td>\n",
       "      <td>SomeTown</td>\n",
       "      <td>SD</td>\n",
       "      <td>91234</td>\n",
       "    </tr>\n",
       "    <tr>\n",
       "      <th>4</th>\n",
       "      <td>Tony</td>\n",
       "      <td>Blankman</td>\n",
       "      <td>Sydney</td>\n",
       "      <td>6/19/20</td>\n",
       "      <td>1999 Boshton</td>\n",
       "      <td>SomeTown</td>\n",
       "      <td>SD</td>\n",
       "      <td>298</td>\n",
       "    </tr>\n",
       "    <tr>\n",
       "      <th>5</th>\n",
       "      <td>Joan \"the bone\", Anne</td>\n",
       "      <td>Bruce</td>\n",
       "      <td>Jet</td>\n",
       "      <td>1/1/2000</td>\n",
       "      <td>9th, at Terrace plc</td>\n",
       "      <td>Desert City</td>\n",
       "      <td>CO</td>\n",
       "      <td>123</td>\n",
       "    </tr>\n",
       "    <tr>\n",
       "      <th>6</th>\n",
       "      <td>Loc</td>\n",
       "      <td>Nguyen</td>\n",
       "      <td>Vo</td>\n",
       "      <td>2/17/1999</td>\n",
       "      <td>123 Lac Long Quan</td>\n",
       "      <td>Khanh Hoa</td>\n",
       "      <td>VN</td>\n",
       "      <td>75000</td>\n",
       "    </tr>\n",
       "  </tbody>\n",
       "</table>\n",
       "</div>"
      ],
      "text/plain": [
       "               firstname  lastname middlename   birthdate  \\\n",
       "0                   John       Doe    Stephen   2/17/1999   \n",
       "1                   Jack  McGinnis     Jordan   3/18/2000   \n",
       "2          John \"Da Man\"    Repici      Peter  04/19/2001   \n",
       "3                Stephen     Tyler     Parker   5/20/1999   \n",
       "4                   Tony  Blankman     Sydney     6/19/20   \n",
       "5  Joan \"the bone\", Anne     Bruce        Jet    1/1/2000   \n",
       "6                    Loc    Nguyen         Vo   2/17/1999   \n",
       "\n",
       "                             street         city state  postcode  \n",
       "0                 120 jefferson st.    Riverside    NJ      8075  \n",
       "1                      220 hobo Av.        Phila    PA      9119  \n",
       "2                 120 Jefferson St.    Riverside    NJ      8075  \n",
       "3  7452 Terrace \"At the Plaza\" road     SomeTown    SD     91234  \n",
       "4                      1999 Boshton     SomeTown    SD       298  \n",
       "5               9th, at Terrace plc  Desert City    CO       123  \n",
       "6                 123 Lac Long Quan    Khanh Hoa    VN     75000  "
      ]
     },
     "execution_count": 186,
     "metadata": {},
     "output_type": "execute_result"
    }
   ],
   "source": [
    "data = pd.read_csv(\"addresses.csv\")\n",
    "data"
   ]
  },
  {
   "cell_type": "markdown",
   "id": "c0575071-3c9d-4d25-9aee-9337afc65cc7",
   "metadata": {},
   "source": [
    "# Visualize data"
   ]
  },
  {
   "cell_type": "code",
   "execution_count": 187,
   "id": "421798dc-3eec-488e-937f-4f80ebf202bd",
   "metadata": {},
   "outputs": [
    {
     "data": {
      "text/plain": [
       "(7, 8)"
      ]
     },
     "execution_count": 187,
     "metadata": {},
     "output_type": "execute_result"
    }
   ],
   "source": [
    "# The size of data (7 rows, 6 columns)\n",
    "\n",
    "data.shape"
   ]
  },
  {
   "cell_type": "code",
   "execution_count": 188,
   "id": "0dbd845f-615d-4fb1-817b-d71b00427a74",
   "metadata": {},
   "outputs": [
    {
     "name": "stdout",
     "output_type": "stream",
     "text": [
      "List of column name: Index(['firstname', 'lastname', 'middlename', 'birthdate', 'street', 'city',\n",
      "       'state', 'postcode'],\n",
      "      dtype='object')\n",
      "The 4th column name: birthdate\n"
     ]
    }
   ],
   "source": [
    "print(\"List of column name:\", data.columns)\n",
    "print(\"The 4th column name:\", data.columns[3])"
   ]
  },
  {
   "cell_type": "code",
   "execution_count": 189,
   "id": "f0623194-de58-4c03-866d-65412cf040d0",
   "metadata": {},
   "outputs": [
    {
     "data": {
      "text/plain": [
       "0                     John\n",
       "1                     Jack\n",
       "2            John \"Da Man\"\n",
       "3                  Stephen\n",
       "4                     Tony\n",
       "5    Joan \"the bone\", Anne\n",
       "6                      Loc\n",
       "Name: firstname, dtype: object"
      ]
     },
     "execution_count": 189,
     "metadata": {},
     "output_type": "execute_result"
    }
   ],
   "source": [
    "# Get firstname data\n",
    "\n",
    "data[\"firstname\"]"
   ]
  },
  {
   "cell_type": "code",
   "execution_count": 190,
   "id": "71ff38e2-27c6-4a47-a4e6-807987a74e8a",
   "metadata": {},
   "outputs": [
    {
     "data": {
      "text/plain": [
       "firstname                  John\n",
       "lastname                    Doe\n",
       "middlename              Stephen\n",
       "birthdate             2/17/1999\n",
       "street        120 jefferson st.\n",
       "city                  Riverside\n",
       "state                        NJ\n",
       "postcode                   8075\n",
       "Name: 0, dtype: object"
      ]
     },
     "execution_count": 190,
     "metadata": {},
     "output_type": "execute_result"
    }
   ],
   "source": [
    "# Get first row in data\n",
    "\n",
    "data.iloc[0]"
   ]
  },
  {
   "cell_type": "code",
   "execution_count": 191,
   "id": "3c7fe064-80ac-47f6-bea3-1469e8b90294",
   "metadata": {},
   "outputs": [
    {
     "data": {
      "text/plain": [
       "'220 hobo Av.'"
      ]
     },
     "execution_count": 191,
     "metadata": {},
     "output_type": "execute_result"
    }
   ],
   "source": [
    "# get street from the first row in data\n",
    "\n",
    "data.iloc[1][\"street\"]"
   ]
  },
  {
   "cell_type": "markdown",
   "id": "95aaac61-6f2f-472b-b8d9-164eadf18505",
   "metadata": {},
   "source": [
    "# Convert from csv file to dictionaries"
   ]
  },
  {
   "cell_type": "code",
   "execution_count": 210,
   "id": "9ca32a7c-293a-4314-95a1-c811a7e339cb",
   "metadata": {},
   "outputs": [],
   "source": [
    "def to_datetime(datetime_string):   \n",
    "    \"\"\"\n",
    "    This function convert a string of datetime to the type datetime in python\n",
    "    It receives a string parameter with format: mm/dd/yyyy. For example:\n",
    "        1. Valid format: \"01/19/2000\", \"1/1/0001\"\n",
    "        2. Invalid format: \"01 19 2000\", \"21/01/1999\", \"01/19/200\", \"01/19/20\"\n",
    "\n",
    "    :param datetime_string: string\n",
    "    :return: datetime\n",
    "    \"\"\"\n",
    "    return datetime.strptime(datetime_string, '%m/%d/%Y')\n",
    "\n",
    "def to_age(birthdate):\n",
    "    \"\"\"\n",
    "    :param birthdate: datetime\n",
    "    :return: the age calculated by number of years: int\n",
    "    \"\"\"\n",
    "\n",
    "    today = datetime.today()\n",
    "    age = today.year - birthdate.year\n",
    "    if (today.month == birthdate.month and today.day < birthdate.day) or today.month < birthdate.month:\n",
    "        age = age - 1\n",
    "    \n",
    "    return age\n",
    "\n",
    "'''\n",
    "    This function return a list of dictionary based on the data in csv file\n",
    "    It receives a string which represents the path of csv file\n",
    "'''                          \n",
    "def to_dictionaries(file_name):      \n",
    "    data = pd.read_csv(file_name)\n",
    "    dictionaries = []\n",
    "    for individual in data.iloc:\n",
    "        fullname = \" \".join([individual[\"lastname\"], individual[\"middlename\"], individual[\"firstname\"]])\n",
    "        birthdate = to_datetime(individual[\"birthdate\"])\n",
    "        age = to_age(birthdate)\n",
    "\n",
    "        dictionary = {}\n",
    "        for column in data.columns:\n",
    "            dictionary[column] = individual[column]\n",
    "        dictionary[\"fullname\"] = fullname\n",
    "        dictionary[\"age\"] = age\n",
    "        \n",
    "        dictionaries.append(dictionary)\n",
    "    \n",
    "    return dictionaries\n",
    "    \n",
    "    "
   ]
  },
  {
   "cell_type": "code",
   "execution_count": 213,
   "id": "121b56fb-1263-4777-a614-36468f3089c4",
   "metadata": {},
   "outputs": [
    {
     "data": {
      "text/plain": [
       "[{'firstname': 'John',\n",
       "  'lastname': 'Doe',\n",
       "  'middlename': 'Stephen',\n",
       "  'birthdate': '2/17/1999',\n",
       "  'street': '120 jefferson st.',\n",
       "  'city': 'Riverside',\n",
       "  'state': ' NJ',\n",
       "  'postcode': 8075,\n",
       "  'fullname': 'Doe Stephen John',\n",
       "  'age': 22},\n",
       " {'firstname': 'Jack',\n",
       "  'lastname': 'McGinnis',\n",
       "  'middlename': 'Jordan',\n",
       "  'birthdate': '3/18/2000',\n",
       "  'street': '220 hobo Av.',\n",
       "  'city': 'Phila',\n",
       "  'state': ' PA',\n",
       "  'postcode': 9119,\n",
       "  'fullname': 'McGinnis Jordan Jack',\n",
       "  'age': 21},\n",
       " {'firstname': 'John \"Da Man\"',\n",
       "  'lastname': 'Repici',\n",
       "  'middlename': 'Peter',\n",
       "  'birthdate': '04/19/2001',\n",
       "  'street': '120 Jefferson St.',\n",
       "  'city': 'Riverside',\n",
       "  'state': ' NJ',\n",
       "  'postcode': 8075,\n",
       "  'fullname': 'Repici Peter John \"Da Man\"',\n",
       "  'age': 20},\n",
       " {'firstname': 'Stephen',\n",
       "  'lastname': 'Tyler',\n",
       "  'middlename': 'Parker',\n",
       "  'birthdate': '5/20/1999',\n",
       "  'street': '7452 Terrace \"At the Plaza\" road',\n",
       "  'city': 'SomeTown',\n",
       "  'state': 'SD',\n",
       "  'postcode': 91234,\n",
       "  'fullname': 'Tyler Parker Stephen',\n",
       "  'age': 22},\n",
       " {'firstname': 'Tony',\n",
       "  'lastname': 'Blankman',\n",
       "  'middlename': 'Sydney',\n",
       "  'birthdate': '6/19/2000',\n",
       "  'street': '1999 Boshton',\n",
       "  'city': 'SomeTown',\n",
       "  'state': ' SD',\n",
       "  'postcode': 298,\n",
       "  'fullname': 'Blankman Sydney Tony',\n",
       "  'age': 21},\n",
       " {'firstname': 'Joan \"the bone\", Anne',\n",
       "  'lastname': 'Bruce',\n",
       "  'middlename': 'Jet',\n",
       "  'birthdate': '1/1/2000',\n",
       "  'street': '9th, at Terrace plc',\n",
       "  'city': 'Desert City',\n",
       "  'state': 'CO',\n",
       "  'postcode': 123,\n",
       "  'fullname': 'Bruce Jet Joan \"the bone\", Anne',\n",
       "  'age': 21},\n",
       " {'firstname': 'Loc',\n",
       "  'lastname': 'Nguyen',\n",
       "  'middlename': 'Vo',\n",
       "  'birthdate': '2/17/1999',\n",
       "  'street': '123 Lac Long Quan',\n",
       "  'city': 'Khanh Hoa',\n",
       "  'state': 'VN',\n",
       "  'postcode': 75000,\n",
       "  'fullname': 'Nguyen Vo Loc',\n",
       "  'age': 22}]"
      ]
     },
     "execution_count": 213,
     "metadata": {},
     "output_type": "execute_result"
    }
   ],
   "source": [
    "dictionaries = to_dictionaries(\"addresses.csv\")\n",
    "dictionaries"
   ]
  },
  {
   "cell_type": "code",
   "execution_count": null,
   "id": "e2dc15ad-1a81-4081-9446-85522b48260a",
   "metadata": {},
   "outputs": [],
   "source": []
  },
  {
   "cell_type": "code",
   "execution_count": null,
   "id": "27a6f303-c52e-47c0-8d07-fb005ad9b87f",
   "metadata": {},
   "outputs": [],
   "source": []
  },
  {
   "cell_type": "code",
   "execution_count": null,
   "id": "99452284-1992-4bec-a4e9-70d7730488fa",
   "metadata": {},
   "outputs": [],
   "source": []
  },
  {
   "cell_type": "code",
   "execution_count": null,
   "id": "6585c1a6-34c1-4ecd-920c-6d4e03988a59",
   "metadata": {},
   "outputs": [],
   "source": []
  },
  {
   "cell_type": "code",
   "execution_count": null,
   "id": "e4e45c1f-5b4b-4c3f-84a9-5e62562ee3c4",
   "metadata": {},
   "outputs": [],
   "source": []
  },
  {
   "cell_type": "code",
   "execution_count": null,
   "id": "512e1131-9a91-4f60-9fef-c21fb1250736",
   "metadata": {},
   "outputs": [],
   "source": []
  }
 ],
 "metadata": {
  "kernelspec": {
   "display_name": "Python 3 (ipykernel)",
   "language": "python",
   "name": "python3"
  },
  "language_info": {
   "codemirror_mode": {
    "name": "ipython",
    "version": 3
   },
   "file_extension": ".py",
   "mimetype": "text/x-python",
   "name": "python",
   "nbconvert_exporter": "python",
   "pygments_lexer": "ipython3",
   "version": "3.8.9"
  }
 },
 "nbformat": 4,
 "nbformat_minor": 5
}
