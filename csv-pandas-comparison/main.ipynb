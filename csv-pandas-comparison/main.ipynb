{
 "cells": [
  {
   "cell_type": "code",
   "execution_count": 1,
   "id": "3394d3f2-509c-4527-be65-e502b2ab3771",
   "metadata": {},
   "outputs": [],
   "source": [
    "import pandas as pd\n",
    "import numpy as np\n",
    "import random\n",
    "import datetime\n",
    "import csv\n",
    "import numpy as np\n",
    "import matplotlib.pyplot as plt"
   ]
  },
  {
   "cell_type": "markdown",
   "id": "9f96c1b0-ce1a-4702-923b-38777de4303f",
   "metadata": {
    "tags": []
   },
   "source": [
    "# Prepare global variable"
   ]
  },
  {
   "cell_type": "code",
   "execution_count": 2,
   "id": "414a29b5-5142-4938-889c-46944310b20e",
   "metadata": {},
   "outputs": [],
   "source": [
    "class Generator:\n",
    "\n",
    "    def __init__(self, num_of_line: int):\n",
    "\n",
    "        self.num_of_line = num_of_line\n",
    "        \n",
    "        # Prepare columns\n",
    "        self.columns = [\"firstname\", \"lastname\", \"middlename\", \"sex\", \"birthdate\", \"country\", \"university\"]\n",
    "\n",
    "        # Prepare data\n",
    "        self.firstname = [\"Loc\", \"Chino\", \"An\", \"Chi\", \"Peter\", \"Parker\", \"Ha\", \n",
    "                          \"Harry\", \"Curry\", \"Thompson\", \"Nhi\", \"Tuyet\"]\n",
    "        self.lastname = [\"Nguyen\", \"Kokoto\", \"Le\", \"Lai\", \"Parker\", \"Peter\", \n",
    "                         \"Hoang\", \"Potter\", \"Stephen\", \"Klay\", \"Vo\"]\n",
    "        self.middlename = [\"Duc\", \"Capu\", \"Bao\", \"Trong\", \"Spiderman\", \"Tom\", \"Thu\", \n",
    "                           \"Lily\", \"Thanh\", \"Tram\", \"Gopal\", \"Michael\"]\n",
    "\n",
    "        self.sex_ = [\"male\", \"female\"]\n",
    "\n",
    "        self.start_date = datetime.date(1975, 4, 30)\n",
    "        self.end_date = datetime.date(2010, 1, 1)\n",
    "\n",
    "        self.countries = [\"US\", \"VN\", \"China\", \"Japan\", \"Hongkong\", \"Taiwan\", \n",
    "                          \"Lao\", \"Campuchia\", \"New-zeland\", \"Australia\"]\n",
    "\n",
    "        self.universities = [\"HCM University of Science\", \"Stanford University\", \"Cambridge University\", \n",
    "                             \"HCM University of Technology\", \"CMU\", \"MIU\", \"Portland State University\"]\n",
    "            \n",
    "    def generate_name(self) -> tuple:\n",
    "        first = random.randint(0, len(self.firstname) - 1)\n",
    "        last = random.randint(0, len(self.lastname) - 1)\n",
    "        middle = random.randint(0, len(self.middlename) - 1)\n",
    "\n",
    "        return (self.firstname[first], self.lastname[last], self.middlename[middle])\n",
    "\n",
    "    def generate_sex(self) -> str:\n",
    "        return self.sex_[random.randint(0, 1)]\n",
    "\n",
    "    def generate_birthdate(self) -> str:\n",
    "        random_number_of_days = random.randrange((self.end_date - self.start_date).days)\n",
    "        random_date = self.start_date + datetime.timedelta(days=random_number_of_days)\n",
    "        return random_date.strftime(\"%m/%d/%Y\")\n",
    "    \n",
    "    def generate_country(self) -> str:\n",
    "        return self.countries[random.randint(0, len(self.countries) - 1)]\n",
    "\n",
    "    def generate_university(self) -> list:\n",
    "        return self.universities[random.randint(0, len(self.universities) - 1)]\n",
    "\n",
    "    def to_csv(self, file_name: str):\n",
    "        with open(file=file_name, mode=\"w\", encoding=\"utf-8\") as writer:\n",
    "            writer.write(\",\".join(self.columns) + \"\\n\")\n",
    "\n",
    "            for row in range(0, self.num_of_line):\n",
    "                ID = row\n",
    "                firstname, lastname, middlename = self.generate_name()\n",
    "                sex = self.generate_sex()\n",
    "                birthdate = self.generate_birthdate()\n",
    "                country = self.generate_country()\n",
    "                university = self.generate_university()\n",
    "\n",
    "                writer.write(\",\".join([firstname, \n",
    "                                       lastname, \n",
    "                                       middlename, \n",
    "                                       sex, \n",
    "                                       birthdate, \n",
    "                                       country, \n",
    "                                       university]) + \"\\n\")\n",
    "\n",
    "\n",
    "sizes = [10]\n",
    "for milestone in [10, 100, 1000, 10000, 100000]:\n",
    "    for step in range(2, 11):\n",
    "        sizes.append(step * milestone)\n",
    "        \n",
    "input_filenames = []\n",
    "output_filenames = []\n",
    "\n",
    "for size_ in sizes:\n",
    "    input_filename = f\"sample/input-{size_}.csv\"\n",
    "    output_filename = f\"sample/output-{size_}.csv\"\n",
    "    \n",
    "    input_filenames.append(input_filename)\n",
    "    output_filenames.append(output_filename)"
   ]
  },
  {
   "cell_type": "markdown",
   "id": "5fdbe2ff-22cd-4a41-b8c8-8ba4800b1d15",
   "metadata": {
    "tags": []
   },
   "source": [
    "# Generate csv files in /sample/..."
   ]
  },
  {
   "cell_type": "code",
   "execution_count": 3,
   "id": "cdd8cd81-2db8-43f8-9bd7-57b75b2196b1",
   "metadata": {},
   "outputs": [],
   "source": [
    "for index, size_ in enumerate(sizes):\n",
    "    \n",
    "    input_filename = input_filenames[index]\n",
    "    output_filename = output_filenames[index]\n",
    "    \n",
    "    generator = Generator(size_)\n",
    "    generator.to_csv(input_filename)"
   ]
  },
  {
   "cell_type": "markdown",
   "id": "a9d853aa-4466-43ba-8e88-7ec807de46eb",
   "metadata": {
    "tags": []
   },
   "source": [
    "# Support functions"
   ]
  },
  {
   "cell_type": "code",
   "execution_count": 4,
   "id": "6eb50d7c-1143-4bf7-85ab-492b90acf06f",
   "metadata": {},
   "outputs": [],
   "source": [
    "class PandasCalculator():\n",
    "        \n",
    "    def reading_performance(self, file_name: str):\n",
    "        start = datetime.datetime.now()\n",
    "        data = pd.read_csv(file_name)\n",
    "        end = datetime.datetime.now()\n",
    "        \n",
    "        return (end - start).total_seconds()\n",
    "    \n",
    "    def writing_performance(self, source_name: str, file_name):\n",
    "        data = pd.read_csv(source_name)\n",
    "        \n",
    "        start = datetime.datetime.now()\n",
    "        data.to_csv(file_name)\n",
    "        end = datetime.datetime.now()\n",
    "        \n",
    "        return (end - start).total_seconds()\n",
    "    \n",
    "class CsvCalculator():\n",
    "    \n",
    "    def reading_performance(self, file_name: str, is_dict=False):\n",
    "        start = datetime.datetime.now()\n",
    "        with open(file_name, mode=\"r\") as csv_file:\n",
    "            if is_dict:\n",
    "                csv_writer = csv.DictReader(csv_file)\n",
    "            else:\n",
    "                csv_writer = csv.reader(csv_file)\n",
    "                \n",
    "            for line in csv_writer:\n",
    "                pass\n",
    "        \n",
    "        end = datetime.datetime.now()\n",
    "        return (end - start).total_seconds()      \n",
    "    \n",
    "    def writing_performance(self, source_name: str, output_name: str, is_dict=False):\n",
    "        \n",
    "        with open(source_name, mode='r') as csv_input:\n",
    "            if is_dict:\n",
    "                data = csv.DictReader(csv_input)\n",
    "            else:\n",
    "                data = csv.reader(csv_input)\n",
    "            \n",
    "            start = datetime.datetime.now()\n",
    "\n",
    "            with open(output_name, mode='w') as csv_output:\n",
    "                if is_dict:\n",
    "                    csv_writer = csv.DictWriter(csv_output, fieldnames=data.fieldnames)\n",
    "                    csv_writer.writeheader()\n",
    "                else:\n",
    "                    csv_writer = csv.writer(csv_output)\n",
    "                \n",
    "                csv_writer.writerows(data)\n",
    "            \n",
    "            end = datetime.datetime.now()\n",
    "            \n",
    "        return (end - start).total_seconds()\n",
    "        \n",
    "pandas_calculator = PandasCalculator()\n",
    "csv_calculator = CsvCalculator()\n"
   ]
  },
  {
   "cell_type": "markdown",
   "id": "fb48d826-0496-440a-92d4-ef7016c1bc51",
   "metadata": {},
   "source": [
    "# Estimate reading and writing performance"
   ]
  },
  {
   "cell_type": "code",
   "execution_count": 5,
   "id": "8eec0638-59f2-481f-b86b-e9a23d47926f",
   "metadata": {},
   "outputs": [],
   "source": [
    "reading_times_pandas = []\n",
    "reading_times_csv = []\n",
    "reading_times_csv_dict = []\n",
    "\n",
    "for size_ in sizes:\n",
    "    reading_times_pandas.append(pandas_calculator.reading_performance(f\"sample/input-{size_}.csv\"))\n",
    "    \n",
    "    reading_times_csv.append(csv_calculator.reading_performance(f\"sample/input-{size_}.csv\", \n",
    "                                                                False))\n",
    "                             \n",
    "    reading_times_csv_dict.append(csv_calculator.reading_performance(f\"sample/input-{size_}.csv\", \n",
    "                                                                     False))\n"
   ]
  },
  {
   "cell_type": "code",
   "execution_count": null,
   "id": "64392011-da1c-43cf-9e08-799273c14c4b",
   "metadata": {},
   "outputs": [],
   "source": [
    "writing_times_pandas = []\n",
    "writing_times_csv = []\n",
    "writing_times_csv_dict = []\n",
    "\n",
    "for size_ in sizes:\n",
    "    writing_times_pandas.append(pandas_calculator.writing_performance(f\"sample/input-{size_}.csv\", \n",
    "                                                                      f\"sample/output-{size_}.csv\"))\n",
    "    \n",
    "    writing_times_csv.append(csv_calculator.writing_performance(f\"sample/input-{size_}.csv\",\n",
    "                                                                f\"sample/output-{size_}.csv\",\n",
    "                                                                False))\n",
    "                             \n",
    "    writing_times_csv_dict.append(csv_calculator.writing_performance(f\"sample/input-{size_}.csv\",\n",
    "                                                                     f\"sample/output-{size_}.csv\",\n",
    "                                                                     True))\n"
   ]
  },
  {
   "cell_type": "markdown",
   "id": "21b1c283-339f-497f-bc9b-9e15120ea7e8",
   "metadata": {},
   "source": [
    "# CSV vs Pandas performance comparison"
   ]
  },
  {
   "cell_type": "markdown",
   "id": "65c21cee-a638-4873-a4bc-37ba075806a7",
   "metadata": {},
   "source": [
    "## Visualize reading performance for < 5000 lines CSV file"
   ]
  },
  {
   "cell_type": "code",
   "execution_count": 14,
   "id": "30c75a63-02a4-45f0-ae49-726b9ea026c3",
   "metadata": {},
   "outputs": [
    {
     "data": {
      "text/plain": [
       "<matplotlib.legend.Legend at 0x11ffb7a90>"
      ]
     },
     "execution_count": 14,
     "metadata": {},
     "output_type": "execute_result"
    },
    {
     "data": {
      "image/png": "[encoded data removed]",
      "text/plain": [
       "<Figure size 432x288 with 1 Axes>"
      ]
     },
     "metadata": {
      "needs_background": "light"
     },
     "output_type": "display_data"
    }
   ],
   "source": [
    "scale = 22\n",
    "\n",
    "plt.plot(sizes[0:scale], reading_times_pandas[0:scale], \"red\", label=\"pandas.read_csv\")\n",
    "plt.plot(sizes[0:scale], reading_times_csv[0:scale], \"green\", label=\"csv\")\n",
    "plt.plot(sizes[0:scale], reading_times_csv_dict[0:scale], \"blue\", label=\"csv dictionary\")\n",
    "\n",
    "plt.title(\"Reading performance\")\n",
    "plt.xlabel(\"Number of lines in .csv\")\n",
    "plt.ylabel(\"Seconds\", )\n",
    "\n",
    "plt.ticklabel_format(style='plain')\n",
    "plt.legend()"
   ]
  },
  {
   "cell_type": "markdown",
   "id": "42a67040-d076-499c-add5-89b3d3b8d648",
   "metadata": {},
   "source": [
    "## Visualize reading performance for 10 .. 1'000'000 lines CSV file"
   ]
  },
  {
   "cell_type": "code",
   "execution_count": 15,
   "id": "3ea55844-d61d-4af3-8162-5a0dbfb42306",
   "metadata": {},
   "outputs": [
    {
     "data": {
      "text/plain": [
       "<matplotlib.legend.Legend at 0x128be5550>"
      ]
     },
     "execution_count": 15,
     "metadata": {},
     "output_type": "execute_result"
    },
    {
     "data": {
      "image/png": "[encoded data removed]",
      "text/plain": [
       "<Figure size 432x288 with 1 Axes>"
      ]
     },
     "metadata": {
      "needs_background": "light"
     },
     "output_type": "display_data"
    }
   ],
   "source": [
    "plt.plot(sizes, reading_times_pandas, \"red\", label=\"pandas.read_csv\")\n",
    "plt.plot(sizes, reading_times_csv, \"green\", label=\"csv\")\n",
    "plt.plot(sizes, reading_times_csv_dict, \"blue\", label=\"csv dictionary\")\n",
    "\n",
    "plt.title(\"Reading performance\")\n",
    "plt.xlabel(\"Number of lines in .csv\")\n",
    "plt.ylabel(\"Seconds\", )\n",
    "\n",
    "plt.ticklabel_format(style='plain')\n",
    "plt.legend()"
   ]
  },
  {
   "cell_type": "markdown",
   "id": "910f103d-1eba-4064-b1c9-c43af4fc8792",
   "metadata": {},
   "source": [
    "## Visualize writing performance"
   ]
  },
  {
   "cell_type": "code",
   "execution_count": 19,
   "id": "9a71494c-0eaa-407e-b8e8-3b5357c11375",
   "metadata": {},
   "outputs": [
    {
     "data": {
      "text/plain": [
       "<matplotlib.legend.Legend at 0x11ff321c0>"
      ]
     },
     "execution_count": 19,
     "metadata": {},
     "output_type": "execute_result"
    },
    {
     "data": {
      "image/png": "[encoded data removed]",
      "text/plain": [
       "<Figure size 432x288 with 1 Axes>"
      ]
     },
     "metadata": {
      "needs_background": "light"
     },
     "output_type": "display_data"
    }
   ],
   "source": [
    "plt.plot(sizes, writing_times_pandas, \"red\", label=\"pandas\")\n",
    "plt.plot(sizes, writing_times_csv, \"green\", label=\"csv.write\")\n",
    "plt.plot(sizes, writing_times_csv_dict, \"blue\", label=\"csv.DictWriter\")\n",
    "\n",
    "plt.title(\"Writing .csv performance\")\n",
    "plt.xlabel(\"Number of lines in .csv\")\n",
    "plt.ylabel(\"Seconds\")\n",
    "\n",
    "plt.ticklabel_format(style='plain')\n",
    "plt.legend()"
   ]
  },
  {
   "cell_type": "markdown",
   "id": "c86c92d4-0e0e-4b0e-8297-bdc50913f3c5",
   "metadata": {},
   "source": [
    "# Conclusion"
   ]
  },
  {
   "cell_type": "markdown",
   "id": "09bd377d-13a6-4706-a67f-e12fc153495b",
   "metadata": {},
   "source": [
    "## Reading performance:\n",
    "\n",
    "1. csv.reader and csv.DictReader has the same performance on reading\n",
    "2. csv.reader & csv.DictReader is faster than pandas.read_csv for < 5000 lines .csv file\n",
    "3. When the csv size exceedes 5000 lines, the performance of csv.reader & csv.DictReader drops significant, compare to Pandas module\n",
    "\n",
    "## Writing performance\n",
    "\n",
    "1. csv.DictWriter has the worst performance\n",
    "2. csv.writer and pandas.DataFrame.to_csv has the same performance\n",
    "\n",
    "## Should I use Pandas or CSV ?\n",
    "\n",
    "1. Different from csv, pandas is not a build-in module and have to be installed maunally. In general, this is considred as a disadvantage of pandas, because it increases the dependency size of project\n",
    "\n",
    "2. csv is appropriate for small size csv.\n",
    "\n",
    "3. When it comes to data analytics, pandas is absolutely a better choice, compared to csv. It provides many methods, i.e. the DataFrame, Series, etc. to manipulate the data. Furthermore, pandas uses numpy under the hood (written 50 - 50 in C and Python), which significantly optimizes the performance.\n",
    "\n"
   ]
  }
 ],
 "metadata": {
  "kernelspec": {
   "display_name": "Python 3 (ipykernel)",
   "language": "python",
   "name": "python3"
  },
  "language_info": {
   "codemirror_mode": {
    "name": "ipython",
    "version": 3
   },
   "file_extension": ".py",
   "mimetype": "text/x-python",
   "name": "python",
   "nbconvert_exporter": "python",
   "pygments_lexer": "ipython3",
   "version": "3.8.9"
  }
 },
 "nbformat": 4,
 "nbformat_minor": 5
}
